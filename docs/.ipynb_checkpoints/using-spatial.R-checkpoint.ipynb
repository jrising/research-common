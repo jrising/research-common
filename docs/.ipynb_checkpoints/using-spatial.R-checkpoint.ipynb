{
 "cells": [
  {
   "cell_type": "markdown",
   "metadata": {},
   "source": [
    "This is an example of using the `spatial.R` code to aggregate gridded weather data.\n",
    "\n",
    "First, load the required packages."
   ]
  },
  {
   "cell_type": "code",
   "execution_count": 16,
   "metadata": {
    "collapsed": false
   },
   "outputs": [],
   "source": [
    "library(PBSmapping)\n",
    "library(ncdf4)\n",
    "source(\"~/projects/research-common/R/distance.R\")\n",
    "source(\"~/projects/research-common/R/spatial.R\", chdir=T)"
   ]
  },
  {
   "cell_type": "markdown",
   "metadata": {},
   "source": [
    "Load the shapefile.  I use `PBSmapping`, which represents shapefiles as lists of points."
   ]
  },
  {
   "cell_type": "code",
   "execution_count": 28,
   "metadata": {
    "collapsed": false
   },
   "outputs": [],
   "source": [
    "shape <- importShapefile(\"~/data/political/brazil/BRA_adm2/BRA_adm2\")"
   ]
  },
  {
   "cell_type": "markdown",
   "metadata": {},
   "source": [
    "Load the gridded data."
   ]
  },
  {
   "cell_type": "code",
   "execution_count": 8,
   "metadata": {
    "collapsed": true
   },
   "outputs": [],
   "source": [
    "ncdf <- nc_open(\"~/data/agmerra/monthly/tasmax_agmerra_1980-2010.mm.nc4\")\n",
    "longitude <- ncvar_get(ncdf, \"lon\")\n",
    "latitude <- ncvar_get(ncdf, \"lat\")"
   ]
  },
  {
   "cell_type": "markdown",
   "metadata": {},
   "source": [
    "The `prepareEvents` function identifies the center of each grid cell, which will be used to make the averages.  In a loop over multiple files, it's best to only do this once."
   ]
  },
  {
   "cell_type": "code",
   "execution_count": 10,
   "metadata": {
    "collapsed": true
   },
   "outputs": [],
   "source": [
    "events <- prepareEvents(longitude, latitude, attr(shape, \"projection\"))"
   ]
  },
  {
   "cell_type": "markdown",
   "metadata": {},
   "source": [
    "Get out the weather data itself.  It's important that this has dimensions of the order longitude, latitude, time."
   ]
  },
  {
   "cell_type": "code",
   "execution_count": 25,
   "metadata": {
    "collapsed": true
   },
   "outputs": [],
   "source": [
    "lonlattimeraster <- ncvar_get(ncdf, \"tasmax\")"
   ]
  },
  {
   "cell_type": "markdown",
   "metadata": {},
   "source": [
    "Also get out the time variable, for producing output."
   ]
  },
  {
   "cell_type": "code",
   "execution_count": 14,
   "metadata": {
    "collapsed": true
   },
   "outputs": [],
   "source": [
    "time <- ncvar_get(ncdf, \"time\")"
   ]
  },
  {
   "cell_type": "markdown",
   "metadata": {},
   "source": [
    "Iterate through all of the polygons, constructing averages and adding them to the result dataframe."
   ]
  },
  {
   "cell_type": "code",
   "execution_count": 26,
   "metadata": {
    "collapsed": false
   },
   "outputs": [
    {
     "name": "stdout",
     "output_type": "stream",
     "text": [
      "[1] 1\n",
      "[1] 2\n",
      "[1] 3\n",
      "[1] 4\n",
      "[1] 5\n",
      "[1] 6\n",
      "[1] 7\n",
      "[1] 8\n",
      "[1] 9\n",
      "[1] 10\n"
     ]
    }
   ],
   "source": [
    "values <- data.frame(PID=c(), time=c(), average=c())\n",
    "for (pid in 1:10) {\n",
    "    print(pid)\n",
    "    average <- \n",
    "        spaceTimeRasterAverage(events, lonlattimeraster,\n",
    "                               subset(shape, PID == pid))\n",
    "    values <- rbind(values, data.frame(PID=pid, time, average))\n",
    "}"
   ]
  },
  {
   "cell_type": "markdown",
   "metadata": {},
   "source": [
    "Here's what the final result looks like."
   ]
  },
  {
   "cell_type": "code",
   "execution_count": 27,
   "metadata": {
    "collapsed": false
   },
   "outputs": [
    {
     "data": {
      "text/html": [
       "<table>\n",
       "<thead><tr><th scope=col>PID</th><th scope=col>time</th><th scope=col>average</th></tr></thead>\n",
       "<tbody>\n",
       "\t<tr><td>1       </td><td>43859.04</td><td>303.7097</td></tr>\n",
       "\t<tr><td>1       </td><td>43888.04</td><td>303.9345</td></tr>\n",
       "\t<tr><td>1       </td><td>43919.04</td><td>304.1944</td></tr>\n",
       "\t<tr><td>1       </td><td>43949.04</td><td>303.4933</td></tr>\n",
       "\t<tr><td>1       </td><td>43980.04</td><td>302.4032</td></tr>\n",
       "\t<tr><td>1       </td><td>44010.04</td><td>301.1283</td></tr>\n",
       "\t<tr><td>1       </td><td>44041.04</td><td>300.2048</td></tr>\n",
       "\t<tr><td>1       </td><td>44072.04</td><td>301.2161</td></tr>\n",
       "\t<tr><td>1       </td><td>44102.04</td><td>301.6150</td></tr>\n",
       "\t<tr><td>1       </td><td>44133.04</td><td>302.1299</td></tr>\n",
       "\t<tr><td>1       </td><td>44163.04</td><td>302.3475</td></tr>\n",
       "\t<tr><td>1       </td><td>44194.04</td><td>303.4847</td></tr>\n",
       "\t<tr><td>1       </td><td>44225.04</td><td>303.9887</td></tr>\n",
       "\t<tr><td>1       </td><td>44253.04</td><td>304.1089</td></tr>\n",
       "\t<tr><td>1       </td><td>44284.04</td><td>302.1355</td></tr>\n",
       "\t<tr><td>1       </td><td>44314.04</td><td>302.2700</td></tr>\n",
       "\t<tr><td>1       </td><td>44345.04</td><td>301.2113</td></tr>\n",
       "\t<tr><td>1       </td><td>44375.04</td><td>299.9608</td></tr>\n",
       "\t<tr><td>1       </td><td>44406.04</td><td>299.5403</td></tr>\n",
       "\t<tr><td>1       </td><td>44437.04</td><td>300.5734</td></tr>\n",
       "\t<tr><td>1       </td><td>44467.04</td><td>301.3025</td></tr>\n",
       "\t<tr><td>1       </td><td>44498.04</td><td>301.0186</td></tr>\n",
       "\t<tr><td>1       </td><td>44528.04</td><td>302.8075</td></tr>\n",
       "\t<tr><td>1       </td><td>44559.04</td><td>303.8790</td></tr>\n",
       "\t<tr><td>1       </td><td>44590.04</td><td>303.6194</td></tr>\n",
       "\t<tr><td>1       </td><td>44618.04</td><td>304.2107</td></tr>\n",
       "\t<tr><td>1       </td><td>44649.04</td><td>304.7847</td></tr>\n",
       "\t<tr><td>1       </td><td>44679.04</td><td>301.8208</td></tr>\n",
       "\t<tr><td>1       </td><td>44710.04</td><td>300.4879</td></tr>\n",
       "\t<tr><td>1       </td><td>44740.04</td><td>301.1892</td></tr>\n",
       "\t<tr><td>⋮</td><td>⋮</td><td>⋮</td></tr>\n",
       "\t<tr><td>10      </td><td>54268.04</td><td>304.0499</td></tr>\n",
       "\t<tr><td>10      </td><td>54299.04</td><td>305.0580</td></tr>\n",
       "\t<tr><td>10      </td><td>54329.04</td><td>304.6178</td></tr>\n",
       "\t<tr><td>10      </td><td>54360.04</td><td>304.3485</td></tr>\n",
       "\t<tr><td>10      </td><td>54390.04</td><td>304.0840</td></tr>\n",
       "\t<tr><td>10      </td><td>54421.04</td><td>303.6433</td></tr>\n",
       "\t<tr><td>10      </td><td>54452.04</td><td>303.1919</td></tr>\n",
       "\t<tr><td>10      </td><td>54480.04</td><td>303.3282</td></tr>\n",
       "\t<tr><td>10      </td><td>54511.04</td><td>304.1026</td></tr>\n",
       "\t<tr><td>10      </td><td>54541.04</td><td>303.9692</td></tr>\n",
       "\t<tr><td>10      </td><td>54572.04</td><td>303.7490</td></tr>\n",
       "\t<tr><td>10      </td><td>54602.04</td><td>303.0998</td></tr>\n",
       "\t<tr><td>10      </td><td>54633.04</td><td>305.0337</td></tr>\n",
       "\t<tr><td>10      </td><td>54664.04</td><td>305.2790</td></tr>\n",
       "\t<tr><td>10      </td><td>54694.04</td><td>305.9802</td></tr>\n",
       "\t<tr><td>10      </td><td>54725.04</td><td>305.2855</td></tr>\n",
       "\t<tr><td>10      </td><td>54755.04</td><td>305.1216</td></tr>\n",
       "\t<tr><td>10      </td><td>54786.04</td><td>303.5356</td></tr>\n",
       "\t<tr><td>10      </td><td>54817.04</td><td>303.2183</td></tr>\n",
       "\t<tr><td>10      </td><td>54845.04</td><td>304.2313</td></tr>\n",
       "\t<tr><td>10      </td><td>54876.04</td><td>304.3804</td></tr>\n",
       "\t<tr><td>10      </td><td>54906.04</td><td>303.9482</td></tr>\n",
       "\t<tr><td>10      </td><td>54937.04</td><td>303.0795</td></tr>\n",
       "\t<tr><td>10      </td><td>54967.04</td><td>302.3376</td></tr>\n",
       "\t<tr><td>10      </td><td>54998.04</td><td>302.3311</td></tr>\n",
       "\t<tr><td>10      </td><td>55029.04</td><td>302.9334</td></tr>\n",
       "\t<tr><td>10      </td><td>55059.04</td><td>302.4094</td></tr>\n",
       "\t<tr><td>10      </td><td>55090.04</td><td>301.5102</td></tr>\n",
       "\t<tr><td>10      </td><td>55120.04</td><td>301.1220</td></tr>\n",
       "\t<tr><td>10      </td><td>55151.04</td><td>301.9252</td></tr>\n",
       "</tbody>\n",
       "</table>\n"
      ],
      "text/latex": [
       "\\begin{tabular}{r|lll}\n",
       " PID & time & average\\\\\n",
       "\\hline\n",
       "\t 1        & 43859.04 & 303.7097\\\\\n",
       "\t 1        & 43888.04 & 303.9345\\\\\n",
       "\t 1        & 43919.04 & 304.1944\\\\\n",
       "\t 1        & 43949.04 & 303.4933\\\\\n",
       "\t 1        & 43980.04 & 302.4032\\\\\n",
       "\t 1        & 44010.04 & 301.1283\\\\\n",
       "\t 1        & 44041.04 & 300.2048\\\\\n",
       "\t 1        & 44072.04 & 301.2161\\\\\n",
       "\t 1        & 44102.04 & 301.6150\\\\\n",
       "\t 1        & 44133.04 & 302.1299\\\\\n",
       "\t 1        & 44163.04 & 302.3475\\\\\n",
       "\t 1        & 44194.04 & 303.4847\\\\\n",
       "\t 1        & 44225.04 & 303.9887\\\\\n",
       "\t 1        & 44253.04 & 304.1089\\\\\n",
       "\t 1        & 44284.04 & 302.1355\\\\\n",
       "\t 1        & 44314.04 & 302.2700\\\\\n",
       "\t 1        & 44345.04 & 301.2113\\\\\n",
       "\t 1        & 44375.04 & 299.9608\\\\\n",
       "\t 1        & 44406.04 & 299.5403\\\\\n",
       "\t 1        & 44437.04 & 300.5734\\\\\n",
       "\t 1        & 44467.04 & 301.3025\\\\\n",
       "\t 1        & 44498.04 & 301.0186\\\\\n",
       "\t 1        & 44528.04 & 302.8075\\\\\n",
       "\t 1        & 44559.04 & 303.8790\\\\\n",
       "\t 1        & 44590.04 & 303.6194\\\\\n",
       "\t 1        & 44618.04 & 304.2107\\\\\n",
       "\t 1        & 44649.04 & 304.7847\\\\\n",
       "\t 1        & 44679.04 & 301.8208\\\\\n",
       "\t 1        & 44710.04 & 300.4879\\\\\n",
       "\t 1        & 44740.04 & 301.1892\\\\\n",
       "\t ⋮ & ⋮ & ⋮\\\\\n",
       "\t 10       & 54268.04 & 304.0499\\\\\n",
       "\t 10       & 54299.04 & 305.0580\\\\\n",
       "\t 10       & 54329.04 & 304.6178\\\\\n",
       "\t 10       & 54360.04 & 304.3485\\\\\n",
       "\t 10       & 54390.04 & 304.0840\\\\\n",
       "\t 10       & 54421.04 & 303.6433\\\\\n",
       "\t 10       & 54452.04 & 303.1919\\\\\n",
       "\t 10       & 54480.04 & 303.3282\\\\\n",
       "\t 10       & 54511.04 & 304.1026\\\\\n",
       "\t 10       & 54541.04 & 303.9692\\\\\n",
       "\t 10       & 54572.04 & 303.7490\\\\\n",
       "\t 10       & 54602.04 & 303.0998\\\\\n",
       "\t 10       & 54633.04 & 305.0337\\\\\n",
       "\t 10       & 54664.04 & 305.2790\\\\\n",
       "\t 10       & 54694.04 & 305.9802\\\\\n",
       "\t 10       & 54725.04 & 305.2855\\\\\n",
       "\t 10       & 54755.04 & 305.1216\\\\\n",
       "\t 10       & 54786.04 & 303.5356\\\\\n",
       "\t 10       & 54817.04 & 303.2183\\\\\n",
       "\t 10       & 54845.04 & 304.2313\\\\\n",
       "\t 10       & 54876.04 & 304.3804\\\\\n",
       "\t 10       & 54906.04 & 303.9482\\\\\n",
       "\t 10       & 54937.04 & 303.0795\\\\\n",
       "\t 10       & 54967.04 & 302.3376\\\\\n",
       "\t 10       & 54998.04 & 302.3311\\\\\n",
       "\t 10       & 55029.04 & 302.9334\\\\\n",
       "\t 10       & 55059.04 & 302.4094\\\\\n",
       "\t 10       & 55090.04 & 301.5102\\\\\n",
       "\t 10       & 55120.04 & 301.1220\\\\\n",
       "\t 10       & 55151.04 & 301.9252\\\\\n",
       "\\end{tabular}\n"
      ],
      "text/plain": [
       "     PID time     average \n",
       "1    1   43859.04 303.7097\n",
       "2    1   43888.04 303.9345\n",
       "3    1   43919.04 304.1944\n",
       "4    1   43949.04 303.4933\n",
       "5    1   43980.04 302.4032\n",
       "6    1   44010.04 301.1283\n",
       "7    1   44041.04 300.2048\n",
       "8    1   44072.04 301.2161\n",
       "9    1   44102.04 301.6150\n",
       "10   1   44133.04 302.1299\n",
       "11   1   44163.04 302.3475\n",
       "12   1   44194.04 303.4847\n",
       "13   1   44225.04 303.9887\n",
       "14   1   44253.04 304.1089\n",
       "15   1   44284.04 302.1355\n",
       "16   1   44314.04 302.2700\n",
       "17   1   44345.04 301.2113\n",
       "18   1   44375.04 299.9608\n",
       "19   1   44406.04 299.5403\n",
       "20   1   44437.04 300.5734\n",
       "21   1   44467.04 301.3025\n",
       "22   1   44498.04 301.0186\n",
       "23   1   44528.04 302.8075\n",
       "24   1   44559.04 303.8790\n",
       "25   1   44590.04 303.6194\n",
       "26   1   44618.04 304.2107\n",
       "27   1   44649.04 304.7847\n",
       "28   1   44679.04 301.8208\n",
       "29   1   44710.04 300.4879\n",
       "30   1   44740.04 301.1892\n",
       "⋮    ⋮   ⋮        ⋮       \n",
       "3691 10  54268.04 304.0499\n",
       "3692 10  54299.04 305.0580\n",
       "3693 10  54329.04 304.6178\n",
       "3694 10  54360.04 304.3485\n",
       "3695 10  54390.04 304.0840\n",
       "3696 10  54421.04 303.6433\n",
       "3697 10  54452.04 303.1919\n",
       "3698 10  54480.04 303.3282\n",
       "3699 10  54511.04 304.1026\n",
       "3700 10  54541.04 303.9692\n",
       "3701 10  54572.04 303.7490\n",
       "3702 10  54602.04 303.0998\n",
       "3703 10  54633.04 305.0337\n",
       "3704 10  54664.04 305.2790\n",
       "3705 10  54694.04 305.9802\n",
       "3706 10  54725.04 305.2855\n",
       "3707 10  54755.04 305.1216\n",
       "3708 10  54786.04 303.5356\n",
       "3709 10  54817.04 303.2183\n",
       "3710 10  54845.04 304.2313\n",
       "3711 10  54876.04 304.3804\n",
       "3712 10  54906.04 303.9482\n",
       "3713 10  54937.04 303.0795\n",
       "3714 10  54967.04 302.3376\n",
       "3715 10  54998.04 302.3311\n",
       "3716 10  55029.04 302.9334\n",
       "3717 10  55059.04 302.4094\n",
       "3718 10  55090.04 301.5102\n",
       "3719 10  55120.04 301.1220\n",
       "3720 10  55151.04 301.9252"
      ]
     },
     "metadata": {},
     "output_type": "display_data"
    }
   ],
   "source": [
    "values"
   ]
  }
 ],
 "metadata": {
  "kernelspec": {
   "display_name": "R",
   "language": "R",
   "name": "ir"
  },
  "language_info": {
   "codemirror_mode": "r",
   "file_extension": ".r",
   "mimetype": "text/x-r-source",
   "name": "R",
   "pygments_lexer": "r",
   "version": "3.2.1"
  }
 },
 "nbformat": 4,
 "nbformat_minor": 0
}
